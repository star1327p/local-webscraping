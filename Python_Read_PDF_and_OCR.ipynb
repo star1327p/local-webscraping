{
 "cells": [
  {
   "cell_type": "code",
   "execution_count": 2,
   "id": "c36a4ccd-09db-4653-a6e4-2932c08cead0",
   "metadata": {},
   "outputs": [
    {
     "name": "stdout",
     "output_type": "stream",
     "text": [
      "267\n",
      "Trustworthy\n",
      "Machine Learning\n",
      "concepts for developing accurate, fair, robust, explainable, transparent, \n",
      "inclusive, empowering, and beneficial machine learning systems\n",
      "Kush R. Varshney\n",
      "Trustworthy Machine Learning        •        Varshney\n",
      "Trustworthy Machine Learning\n",
      "Accuracy isnotenough whenyou’re developing machine learning systems forconsequential\n",
      "application domains .Youalsoneed tomake surethatyour models arefair,have notbeen\n",
      "tampered with, willnotfallapart indifferent conditions, andcanbeunderstood bypeople .Your\n",
      "design anddevelopment process hastobetransparent andinclusive .Youdon’t want thesystems\n",
      "youcreate tobeharmful, buttohelp people flourish inways they consent to.Allofthese\n",
      "considerations beyond accuracy thatmake machine learning safe,responsible, andworthy ofour\n",
      "trusthave been described bymany experts asthebiggest challenge ofthenextfiveyears.Ihope\n",
      "thisbook equips youwiththethought process tomeet thischallenge .\n",
      "Thisbook ismost appropriate forproject managers, datascientists, andother practitioners inhigh-\n",
      "stakes domains whocareabout thebroader impact oftheirwork, havethepatience tothink about\n",
      "whatthey’re doing before theyjump in,anddonotshyaway from alittlemath.\n",
      "Inwriting thebook, Ihave taken advantage ofthedualnature ofmyjobasanapplied data\n",
      "scientist partofthetime andamachine learning researcher theother partofthetime.Each\n",
      "chapter focuses onadifferent usecasethattechnologists tendtofacewhen developing algorithms\n",
      "forfinancial services, health care, workforce management, social change, andother areas.These\n",
      "usecases arefictionalized versions ofrealengagements I’veworked on.Thecontents bring inthe\n",
      "latest research from trustworthy machine learning, including some thatI’vepersonally conducted\n",
      "asamachine learning researcher .\n",
      "—Kush\n",
      "Kush R.Varshney isadistinguished research staffmember atIBMResearch\n",
      "–T.J.Watson Research Center where heleads themachine learning group\n",
      "intheFoundations ofTrustworthy AIdepartment andco-directs theIBM\n",
      "Science forSocial Good initiative .Hehasinvented several newmethods in\n",
      "thefairness, interpretability ,robustness, transparency, andsafety ofmachine\n",
      "learning systems andapplied them withnumerous private corporations and\n",
      "social change organizations .Histeam developed theAIFairness 360,AI\n",
      "Explainability 360,andUncertainty Quantification 360open-source toolkits .\n"
     ]
    }
   ],
   "source": [
    "# How to read a PDF in Python\n",
    "\n",
    "# importing required classes\n",
    "from pypdf import PdfReader\n",
    "\n",
    "# creating a pdf reader object\n",
    "reader = PdfReader('/projects/merc_Trustworthy_Analytics/Common_Tools_Data/2022_Varshney_TrustworthyML-Book.pdf')\n",
    "\n",
    "# printing number of pages in pdf file\n",
    "print(len(reader.pages))\n",
    "\n",
    "# creating a page object\n",
    "page = reader.pages[0]\n",
    "\n",
    "# extracting text from page\n",
    "print(page.extract_text())"
   ]
  },
  {
   "cell_type": "code",
   "execution_count": 3,
   "id": "98b73398-8e4d-4ec6-abaa-c4ff4c614188",
   "metadata": {},
   "outputs": [
    {
     "name": "stdout",
     "output_type": "stream",
     "text": [
      " Establishing Trust  | 5 \n",
      "openness, promise fulfilment, and receptivity to name a few.10 Similarly, you can list several attributes \n",
      "of a trustworthy information system, such as: correctness, privacy, reliability, safety, security, and \n",
      "survivability.11 The 2019 International Conference on Machine Learning (ICML) listed the following \n",
      "topics under trustworthy machine learning: adversarial examples, causality, fairness, interpretability, \n",
      "privacy -preserving statistics and machine learning, and robust statistics and machine learning.  The \n",
      "European Commission ’s High Level Expert Group on Artificial Intelligence list ed the following \n",
      "attributes: lawful, ethical, and robust (both technically and socially).  \n",
      "Such long and disparate lists give us some sense of what people deem to be trustworthy \n",
      "characteristics, but are difficult to use as anything but a rough guide.  Howeve r, we can distill these \n",
      "attributes into a set of separable  sub-domains that provide an organizing framework for \n",
      "trustworthiness. Several pieces of work converge onto a nearly identical set of four such separable \n",
      "attributes; a selected listing is provided i n Table 1.1. The first three rows of Table 1.1 are attributes of \n",
      "trustworthy people. The last two rows are attributes of trustworthy artificial intelligence. Importantly, \n",
      "through separability, it is implied that each of the qualities is conceptually differ ent and we can \n",
      "examine each of them in isolation of each other.  \n",
      "Table 1.1. Attributes of trustworthy people and artificial intelligence systems.  \n",
      " Source  Attribute 1  Attribute 2  Attribute 3  Attribute 4  \n",
      "trustworthy \n",
      "people  Mishra12 competent  reliable  open  concerned  \n",
      "Maister et al.13 credibility  reliability  intimacy  low self -\n",
      "orientation  \n",
      "Sucher and \n",
      "Gupta14 competent  use fair means \n",
      "to achieve its \n",
      "goals  take responsi-\n",
      "bility for all its \n",
      "impact  motivated to \n",
      "serve others’ \n",
      "interests as \n",
      "well as its own  \n",
      "trustworthy \n",
      "artificial \n",
      "intelligence  Toreini et al.15 ability  integrity  predictability  benevolence  \n",
      "Ashoori and \n",
      "Weisz16 technical \n",
      "competence  reliability  understandabil-\n",
      "ity personal at-\n",
      "tachment  \n",
      " \n",
      " \n",
      "10Graham Dietz and Deanne N. Den  Hartog. “Measuring Trust Inside Organisations.” In: Personnel Review  35.5 (Sep. 2006), pp. \n",
      "557 –588.  \n",
      "11Fred B. Schneider, ed. Trust in Cyberspace . Washington, DC, USA: National Academy Press, 1999.  \n",
      "12Aneil K. Mishra. “Organizational Responses to Crisis: The Centrality of Trust.” In: Trust in Organizations . Ed. by Roderick M. \n",
      "Kramer and Thomas Tyler. Newbury Park, California, USA: Sage, 1996, pp. 261 –287.  \n",
      "13David H. Maister, Charles H. Green, and Robert M. Galford. The Trusted Advisor . New York, New York, USA: Touchstone, 2000.  \n",
      "14Sandra J. Sucher and Shalene Gupta. “The Trust Crisis.” In: Harvard Business Review  (Jul. 2019). URL: https://hbr.org/cover -\n",
      "story/2019/07/the -trust - crisis . \n",
      "15Ehsan Toreini, Mhairi Aitken, Kovila Coopamootoo , Karen Elliott, Carlos Gonzalez Zelaya, and Aad van Moorsel. “The Rela-\n",
      "tionship Between Trust in AI and Trustworthy Machine Learning Technologies.”  In: Proceedings of the ACM Conference on Fairness, \n",
      "Accountability, and Transparency . Barcelona, Spain, Jan. 2020, pp. 272 –283 . \n",
      "16Maryam Ashoori and Justin D. Weisz. “In AI We Trust? Factors That Influence Trustworthiness of AI -Infused Decision -\n",
      "Making Processes.” arXiv:1912.02675, 2019.  \n"
     ]
    }
   ],
   "source": [
    "# Table cannot be processed by PdfReader\n",
    "page16 = reader.pages[15]\n",
    "\n",
    "# extracting text from page\n",
    "print(page16.extract_text())"
   ]
  },
  {
   "cell_type": "code",
   "execution_count": 4,
   "id": "da11bd67-72f8-4729-8776-d1c21334aa60",
   "metadata": {},
   "outputs": [],
   "source": [
    "# OCR (Optical Character Recognition) \n",
    "\n",
    "# Find all Python packages on Mercury:\n",
    "# http://10.207.92.200/Python/\n",
    "\n",
    "# Terminal Command:\n",
    "# pip install http://10.207.92.200/Python/p/pytesseract-0.3.10-py3-none-any.whl"
   ]
  },
  {
   "cell_type": "code",
   "execution_count": 5,
   "id": "7e12a624-d3b1-4512-b675-faf71c7ba583",
   "metadata": {},
   "outputs": [
    {
     "name": "stdout",
     "output_type": "stream",
     "text": [
      "This text is\n",
      "easy to extract.\n",
      "\f",
      "\n"
     ]
    }
   ],
   "source": [
    "import pytesseract\n",
    "from PIL import Image\n",
    "\n",
    "image = Image.open(\"/projects/merc_Trustworthy_Analytics/Common_Tools_Data/easy_text_ocr.png\")\n",
    "text = pytesseract.image_to_string(image)\n",
    "print(text)"
   ]
  },
  {
   "cell_type": "code",
   "execution_count": null,
   "id": "b238daf0-626f-45ae-b4c7-14687e48add2",
   "metadata": {},
   "outputs": [],
   "source": []
  }
 ],
 "metadata": {
  "kernelspec": {
   "display_name": "Python 3 (ipykernel)",
   "language": "python",
   "name": "python3"
  },
  "language_info": {
   "codemirror_mode": {
    "name": "ipython",
    "version": 3
   },
   "file_extension": ".py",
   "mimetype": "text/x-python",
   "name": "python",
   "nbconvert_exporter": "python",
   "pygments_lexer": "ipython3",
   "version": "3.11.7"
  }
 },
 "nbformat": 4,
 "nbformat_minor": 5
}
